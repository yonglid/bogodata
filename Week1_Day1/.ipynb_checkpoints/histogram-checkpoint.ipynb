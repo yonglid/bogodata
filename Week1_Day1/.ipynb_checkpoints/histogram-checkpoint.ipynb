{
 "cells": [
  {
   "cell_type": "code",
   "execution_count": null,
   "metadata": {
    "collapsed": true
   },
   "outputs": [],
   "source": [
    "https://www.datos.gov.co/browse?sortBy=newest&utf8=%E2%9C%93\n",
    "https://bespokeblog.wordpress.com/2011/07/11/basic-data-plotting-with-matplotlib-part-3-histograms/\n",
    "    https://s3.amazonaws.com/quandl-static-content/Documents/Quandl+-+Pandas,+SciPy,+NumPy+Cheat+Sheet.pdf\n",
    "        \n",
    "        https://drive.google.com/file/d/0ByIrJAE4KMTtTUtiVExiUGVkRkE/view"
   ]
  },
  {
   "cell_type": "code",
   "execution_count": 13,
   "metadata": {},
   "outputs": [
    {
     "name": "stdout",
     "output_type": "stream",
     "text": [
      "[ 40.58  22.5    4.83  13.75  13.67   0.58   0.25   0.67  10.     3.25  15.\n",
      "   1.33  19.58  21.    22.58  19.     8.    15.     0.25   0.16  17.83  19.\n",
      "   3.     1.16   3.75  13.     3.25   0.06   0.06   0.25   0.25   6.     5.\n",
      "   2.     0.33   2.     0.16   7.    15.     1.33   0.83   5.     0.75\n",
      "   0.25   6.     0.92   1.     2.    20.    19.     1.16   6.     1.    31.\n",
      "   6.     2.    16.     3.    24.    13.     0.75   3.     1.    11.    14.\n",
      "  16.    17.    16.  ]\n"
     ]
    },
    {
     "data": {
      "image/png": "[encoded data removed]",
      "text/plain": [
       "<matplotlib.figure.Figure at 0x107d8c7b8>"
      ]
     },
     "metadata": {},
     "output_type": "display_data"
    },
    {
     "data": {
      "text/plain": [
       "<matplotlib.figure.Figure at 0x10908d7f0>"
      ]
     },
     "metadata": {},
     "output_type": "display_data"
    }
   ],
   "source": [
    "import pandas as pd\n",
    "import matplotlib.pyplot as plt\n",
    "import numpy as np\n",
    "import pylab\n",
    "\n",
    "\n",
    "\n",
    "roman_emperors = pd.read_csv('roman-emperor-reigns.csv')\n",
    "roman_emperor_reign_lengths = roman_emperors['Length_of_Reign'].values\n",
    "roman_emperors = roman_emperors['Emperor'].values\n",
    "\n",
    "print (roman_emperor_reign_lengths); \n",
    "\n",
    "plt.hist(roman_emperor_reign_lengths, 69, )\n",
    "plt.title(\"Roman Emperor Reigning Histogram\")\n",
    "plt.xlabel(\"Reigning Lenghts\")\n",
    "plt.ylabel(\"Amount reigning\")\n",
    "plt.figure()\n",
    "plt.savefig('romanemperor_histogram.png', bbox_inches='tight')\n",
    "plt.show()\n",
    "# pd.DataFrame.hist(roman_emperor_reign_lengths); "
   ]
  },
  {
   "cell_type": "code",
   "execution_count": null,
   "metadata": {
    "collapsed": true
   },
   "outputs": [],
   "source": [
    "Here you see bins of reigning lengths categories. Each bin holds the amount of emperors that fall into those categories of reigning lengths. It is skewed right, so the mean will be greater than the median. In this case, the median is most likely more trustworthy. "
   ]
  },
  {
   "cell_type": "code",
   "execution_count": 18,
   "metadata": {},
   "outputs": [
    {
     "name": "stdout",
     "output_type": "stream",
     "text": [
      "[array([110000,  75000,  73000,  70000,  65000,  65000,  62000,  60000,\n",
      "        60000,  60000,  60000,  60000,  60000,  58000,  57100,  57000,\n",
      "        56000,  54000,  54000,  53000,  52000,  52000,  51000,  50000,\n",
      "        50000,  50000,  50000,  50000,  50000,  50000,  50000,  47000,\n",
      "        47000,  46000,  46000,  45000,  45000,  45000,  45000,  45000,\n",
      "        44000,  42000,  41300,  40000,  40000,  40000,  40000,  40000,\n",
      "        40000,  40000,  40000,  40000,  40000,  40000,  38400,  38000,\n",
      "        38000,  38000,  37500,  36400,  36200,  36000,  35000,  35000,\n",
      "        35000,  35000,  35000,  35000,  35000,  35000,  34000,  32200,\n",
      "        32000,  32000,  31000,  29000]), array([62000, 50000, 48000, 46000, 45000, 45000, 45000, 45000, 44700,\n",
      "       42000, 41000, 41000, 40100, 40000, 40000, 40000, 40000, 40000,\n",
      "       40000, 39000, 38000, 38000, 37400, 37000, 36000, 36000, 36000,\n",
      "       36000, 36000, 35600, 35000, 35000, 35000, 35000, 35000, 35000,\n",
      "       35000, 35000, 35000, 35000, 35000, 35000, 34000, 34000, 34000,\n",
      "       34000, 34000, 34000, 34000, 33500, 33500, 33400, 33000, 33000,\n",
      "       33000, 33000, 33000, 33000, 33000, 33000, 33000, 32500, 32400,\n",
      "       32100, 32000, 32000, 32000, 32000, 32000, 32000, 31500, 31000,\n",
      "       31000, 30500, 30000, 30000, 30000, 30000, 30000, 30000, 30000,\n",
      "       30000, 29000, 29000, 29000, 28000, 28000, 28000, 27500, 27000,\n",
      "       27000, 26000, 25000, 25000, 23400, 22000])]\n"
     ]
    },
    {
     "data": {
      "image/png": "[encoded data removed]",
      "text/plain": [
       "<matplotlib.figure.Figure at 0x1089a6400>"
      ]
     },
     "metadata": {},
     "output_type": "display_data"
    },
    {
     "data": {
      "text/plain": [
       "<matplotlib.figure.Figure at 0x10936a2e8>"
      ]
     },
     "metadata": {},
     "output_type": "display_data"
    }
   ],
   "source": [
    "import pandas as pd\n",
    "import matplotlib.pyplot as plt\n",
    "import numpy as np\n",
    "import pylab\n",
    "\n",
    "college_major_earnings = pd.read_csv('recent-college-grads-earnings.csv')\n",
    "more_men_earnings = college_major_earnings[\n",
    "    college_major_earnings['ShareWomen'] < 0.5]['Median'].values\n",
    "\n",
    "more_women_earnings = college_major_earnings[\n",
    "    college_major_earnings['ShareWomen'] > 0.5]['Median'].values\n",
    "\n",
    "\n",
    "two_columns_data = [more_men_earnings, more_women_earnings]\n",
    "\n",
    "print (two_columns_data)\n",
    "plt.boxplot(two_columns_data,\n",
    "            labels=['men', 'women'],\n",
    "            notch=True,\n",
    "            bootstrap=10000)\n",
    "\n",
    "plt.title(\"Roman Emperor Histogram\")\n",
    "plt.xlabel(\"Value\")\n",
    "plt.ylabel(\"Reigning\")\n",
    "plt.figure()\n",
    "plt.savefig('foo.png', bbox_inches='tight')\n",
    "plt.show()\n"
   ]
  }
 ],
 "metadata": {
  "kernelspec": {
   "display_name": "Python 2",
   "language": "python",
   "name": "python2"
  },
  "language_info": {
   "codemirror_mode": {
    "name": "ipython",
    "version": 2
   },
   "file_extension": ".py",
   "mimetype": "text/x-python",
   "name": "python",
   "nbconvert_exporter": "python",
   "pygments_lexer": "ipython2",
   "version": "2.7.13"
  }
 },
 "nbformat": 4,
 "nbformat_minor": 2
}
